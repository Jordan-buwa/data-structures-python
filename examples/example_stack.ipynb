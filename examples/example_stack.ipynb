{
 "cells": [
  {
   "cell_type": "code",
   "execution_count": 1,
   "id": "2dd74a80",
   "metadata": {},
   "outputs": [],
   "source": [
    "import os, sys\n",
    "sys.path.append(os.path.dirname(\"../\"))\n",
    "from data_structures.linked_lists import LinkedList\n",
    "from data_structures.stack import Stack\n",
    "from data_structures.array import Array_new"
   ]
  },
  {
   "cell_type": "code",
   "execution_count": 2,
   "id": "ab501052",
   "metadata": {},
   "outputs": [
    {
     "name": "stdout",
     "output_type": "stream",
     "text": [
      "[7 6 1 2 3 4 5]\n",
      "Top element: 5\n",
      "Popped element: 5\n",
      "[7 6 1 2 3 4]\n"
     ]
    }
   ],
   "source": [
    "# Create an Array_new object\n",
    "para = Array_new([1, 2, 3, 4, 5])\n",
    "\n",
    "# Create a Stack using the Array_new object\n",
    "my_stack = Stack(para)\n",
    "\n",
    "# Push elements onto the stack\n",
    "my_stack.push(6)  # Push 6 at the beginning \n",
    "my_stack.push(7)  # Push 7 \n",
    "\n",
    "# Display the stack\n",
    "my_stack.display_stack()  # Output: [7 6 1 2 3 4 5]\n",
    "\n",
    "# Peek at the top element\n",
    "top_element = my_stack.peek()  \n",
    "print(f\"Top element: {top_element}\")  # Output: Top element: 6\n",
    "\n",
    "# Pop an element\n",
    "popped_element = my_stack.pop_stack()  \n",
    "print(f\"Popped element: {popped_element}\")  # Output: Popped element: 6\n",
    "\n",
    "# Display the stack again\n",
    "\n",
    "my_stack.display_stack()  # Output: [7 6 1 2 3 4]"
   ]
  },
  {
   "cell_type": "code",
   "execution_count": 3,
   "id": "0471df13",
   "metadata": {},
   "outputs": [
    {
     "name": "stdout",
     "output_type": "stream",
     "text": [
      "5<-->4<-->1<-->2<-->3<-->\n",
      "Top element: 3\n",
      "Popped element: 5\n",
      "5<-->4<-->1<-->2<-->3<-->\n"
     ]
    }
   ],
   "source": [
    "# Create a LinkedList object\n",
    "my_linked_list = LinkedList(True)\n",
    "my_linked_list.InsertAtEnd(1)\n",
    "my_linked_list.InsertAtEnd(2)\n",
    "my_linked_list.InsertAtEnd(3)\n",
    "\n",
    "\n",
    "# Create a Stack using the LinkedList object\n",
    "my_stack_ll = Stack(my_linked_list)\n",
    "\n",
    "# Push elements onto the stack\n",
    "my_stack_ll.push(4)  # Push 4 to the end\n",
    "my_stack_ll.push(5)  # Push 5 to the second position\n",
    "\n",
    "\n",
    "# Display the stack\n",
    "my_stack_ll.display_stack()  # Output: 1<-->5<-->2<-->3<-->4\n",
    "\n",
    "# Peek at the top element\n",
    "top_element_ll = my_stack_ll.peek()  \n",
    "print(f\"Top element: {top_element_ll}\")  # Output: Top element: 4\n",
    "\n",
    "# Pop an element from the stack\n",
    "popped_element_ll = my_stack_ll.pop_stack()  \n",
    "print(f\"Popped element: {popped_element_ll}\")  # Output: Popped element: 4\n",
    "\n",
    "# Display the stack again\n",
    "my_stack_ll.display_stack()  # Output: 1<-->5<-->2<-->3<-->"
   ]
  }
 ],
 "metadata": {
  "kernelspec": {
   "display_name": "ds_venv",
   "language": "python",
   "name": "python3"
  },
  "language_info": {
   "codemirror_mode": {
    "name": "ipython",
    "version": 3
   },
   "file_extension": ".py",
   "mimetype": "text/x-python",
   "name": "python",
   "nbconvert_exporter": "python",
   "pygments_lexer": "ipython3",
   "version": "3.10.9"
  }
 },
 "nbformat": 4,
 "nbformat_minor": 5
}
