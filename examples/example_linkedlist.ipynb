{
 "cells": [
  {
   "cell_type": "code",
   "execution_count": 1,
   "id": "5e040bc4",
   "metadata": {},
   "outputs": [],
   "source": [
    "import os, sys\n",
    "sys.path.append(os.path.dirname(\"../\"))\n",
    "from data_structures.linked_lists import LinkedList"
   ]
  },
  {
   "cell_type": "code",
   "execution_count": 2,
   "id": "266578d8",
   "metadata": {},
   "outputs": [
    {
     "name": "stdout",
     "output_type": "stream",
     "text": [
      "1->2->4->3->5->\n",
      "Element at index 2: 4\n",
      "Length of the list: 5\n",
      "Indices of element 3: [3]\n",
      "1->2->3->5->\n",
      "5->3->2->1->\n",
      "1->10->3->5->\n"
     ]
    }
   ],
   "source": [
    "# Create a new LinkedList\n",
    "my_list = LinkedList()\n",
    "\n",
    "# Insert elements at the beginning\n",
    "my_list.InsertAtBeg(3)\n",
    "my_list.InsertAtBeg(2)\n",
    "my_list.InsertAtBeg(1)\n",
    "\n",
    "# Insert an element at a specific position\n",
    "my_list.InsertAtPos(4, 2)  # Insert 4 at index 2\n",
    "\n",
    "# Insert an element at the end\n",
    "my_list.InsertAtEnd(5)\n",
    "\n",
    "# Display the list\n",
    "my_list.display()  # Output: 1->2->4->3->5->\n",
    "\n",
    "# Access an element by index\n",
    "element = my_list[2]  # Access element at index 2\n",
    "print(f\"Element at index 2: {element}\")  # Output: Element at index 2: 4\n",
    "\n",
    "# Get the length of the list\n",
    "length = my_list.get_length()\n",
    "print(f\"Length of the list: {length}\")  # Output: Length of the list: 5\n",
    "\n",
    "# Search for an element\n",
    "indices = my_list.search(3)  # Search for the element 3\n",
    "print(f\"Indices of element 3: {indices}\")  # Output: Indices of element 3: [3]\n",
    "\n",
    "# Delete an element by index\n",
    "my_list.deleteItem(2)  # Delete element at index 2\n",
    "\n",
    "# Display the list after deletion\n",
    "my_list.display()  # Output: 1->2->3->5->\n",
    "\n",
    "# Reverse the list\n",
    "reversed_list = my_list.reverse_list()\n",
    "reversed_list.display()  # Output: 5->3->2->1->\n",
    "\n",
    "\n",
    "# Update the value at a particular position\n",
    "my_list.update(10, 1)\n",
    "my_list.display() # Output: 1->10->3->5->\n"
   ]
  }
 ],
 "metadata": {
  "kernelspec": {
   "display_name": "ds_venv",
   "language": "python",
   "name": "python3"
  },
  "language_info": {
   "codemirror_mode": {
    "name": "ipython",
    "version": 3
   },
   "file_extension": ".py",
   "mimetype": "text/x-python",
   "name": "python",
   "nbconvert_exporter": "python",
   "pygments_lexer": "ipython3",
   "version": "3.10.9"
  }
 },
 "nbformat": 4,
 "nbformat_minor": 5
}
