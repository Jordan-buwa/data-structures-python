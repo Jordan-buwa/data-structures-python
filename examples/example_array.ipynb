{
 "cells": [
  {
   "cell_type": "code",
   "execution_count": 1,
   "id": "3a7ababd",
   "metadata": {},
   "outputs": [],
   "source": [
    "import os, sys\n",
    "sys.path.append(os.path.dirname(\"../\"))\n",
    "from data_structures.array import Array_new"
   ]
  },
  {
   "cell_type": "code",
   "execution_count": 2,
   "id": "5d5ecff7",
   "metadata": {},
   "outputs": [
    {
     "name": "stdout",
     "output_type": "stream",
     "text": [
      "1\n",
      "3\n",
      "(5,)\n",
      "5\n",
      "1\n",
      "5\n",
      "1\n",
      "15\n",
      "3.0\n",
      "1.4142135623730951\n",
      "[1 2 3 4 5]\n",
      "Removed element: 5\n",
      "Data = [1 2 3 4]\n",
      "Data = [1 2 3 4 7]\n"
     ]
    }
   ],
   "source": [
    "# Create an Array_new object\n",
    "my_array = Array_new([1, 2, 3, 4, 5])\n",
    "\n",
    "# Access elements by index\n",
    "print(my_array[0])  # Output: 1\n",
    "print(my_array[2])  # Output: 3\n",
    "\n",
    "# Get the shape of the array\n",
    "print(my_array.shape)  # Output: (5,)\n",
    "\n",
    "# Get the size of the array\n",
    "print(my_array.size)  # Output: 5\n",
    "\n",
    "# Get the dimension of the array\n",
    "print(my_array.dim)  # Output: 1\n",
    "\n",
    "# Get the maximum value\n",
    "print(my_array.max())  # Output: 5\n",
    "\n",
    "# Get the minimum value\n",
    "print(my_array.min())  # Output: 1\n",
    "\n",
    "# Get the sum of all elements\n",
    "print(my_array.sum())  # Output: 15\n",
    "\n",
    "# Get the mean (average)\n",
    "print(my_array.mean())  # Output: 3.0\n",
    "\n",
    "# Get the standard deviation\n",
    "print(my_array.std())  # Output: 1.4142135623730951\n",
    "\n",
    "# Display the array\n",
    "my_array.show_array() \n",
    "\n",
    "\n",
    "\n",
    "# Remove and return the last element\n",
    "removed_element = my_array.pop_array()\n",
    "print(f\"Removed element: {removed_element}\")  # Output: Removed element: 5\n",
    "\n",
    "# Insert element at a specific position (default at the end)\n",
    "my_array.insert(6,2)  #insert 6 at index 2\n",
    "print(my_array)\n",
    "\n",
    "# Append new element at the end\n",
    "my_array.append(7)  #append 7 at the end\n",
    "print(my_array)"
   ]
  }
 ],
 "metadata": {
  "kernelspec": {
   "display_name": "ds_venv",
   "language": "python",
   "name": "python3"
  },
  "language_info": {
   "codemirror_mode": {
    "name": "ipython",
    "version": 3
   },
   "file_extension": ".py",
   "mimetype": "text/x-python",
   "name": "python",
   "nbconvert_exporter": "python",
   "pygments_lexer": "ipython3",
   "version": "3.10.9"
  }
 },
 "nbformat": 4,
 "nbformat_minor": 5
}
