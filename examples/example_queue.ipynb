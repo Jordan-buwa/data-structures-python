{
 "cells": [
  {
   "cell_type": "code",
   "execution_count": 1,
   "id": "1cd7e0aa",
   "metadata": {},
   "outputs": [],
   "source": [
    "import os, sys\n",
    "sys.path.append(os.path.dirname(\"../\"))\n",
    "from data_structures.queue import Queue"
   ]
  },
  {
   "cell_type": "code",
   "execution_count": 2,
   "id": "2548ba7d",
   "metadata": {},
   "outputs": [
    {
     "name": "stdout",
     "output_type": "stream",
     "text": [
      "10->20->30->\n",
      "Removed element: 10\n",
      "20->30->\n",
      "Front element: 20\n",
      "Is queue empty: False\n"
     ]
    }
   ],
   "source": [
    "# Initialize a queue using a LinkedList\n",
    "my_queue = Queue()\n",
    "\n",
    "# Enqueue elements\n",
    "my_queue.enqueue(10)\n",
    "my_queue.enqueue(20)\n",
    "my_queue.enqueue(30)\n",
    "\n",
    "# Display the queue\n",
    "my_queue.display_queue()  # Output: 10->20->30->\n",
    "\n",
    "\n",
    "# Dequeue an element\n",
    "removed_element = my_queue.dequeue()\n",
    "print(f\"Removed element: {removed_element}\")  # Output: Removed element: 10\n",
    "\n",
    "# Display the queue after dequeue\n",
    "my_queue.display_queue()  # Output: 20->30->\n",
    "\n",
    "# Peek at the front element\n",
    "front_element = my_queue.peek()\n",
    "print(f\"Front element: {front_element}\")  # Output: Front element: 20\n",
    "\n",
    "# Check if the queue is empty\n",
    "is_empty = my_queue.isNull()\n",
    "print(f\"Is queue empty: {is_empty}\")  # Output: Is queue empty: False\n"
   ]
  }
 ],
 "metadata": {
  "kernelspec": {
   "display_name": "ds_venv",
   "language": "python",
   "name": "python3"
  },
  "language_info": {
   "codemirror_mode": {
    "name": "ipython",
    "version": 3
   },
   "file_extension": ".py",
   "mimetype": "text/x-python",
   "name": "python",
   "nbconvert_exporter": "python",
   "pygments_lexer": "ipython3",
   "version": "3.10.9"
  }
 },
 "nbformat": 4,
 "nbformat_minor": 5
}
